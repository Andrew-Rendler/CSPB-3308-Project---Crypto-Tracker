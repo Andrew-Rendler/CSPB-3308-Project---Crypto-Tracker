{
 "cells": [
  {
   "cell_type": "code",
   "execution_count": null,
   "metadata": {},
   "outputs": [],
   "source": [
    "#cryptocompare.get_coin_list(format=True)\n",
    "import cryptocompare\n",
    "from datetime import date \n",
    "from datetime import timedelta \n",
    "from pytz import timezone\n",
    "\n",
    "API_KEY = '15bbc2af04315d0d116d7a99909e23d0a026a0ebf729cb0033d82295b3748d6f'\n",
    "\n",
    "def get_price(coin, cur,days_ago, history):\n",
    "    \n",
    "    #coin: Cryptocurrency symbol from get_coin_list\n",
    "    #cur: Reported Currency\n",
    "    #days_ago: Used to look up a single point in time measured in days\n",
    "    #history: Used to gather a window of data, measured in days (30 days of pricing data)\n",
    "    \n",
    "    tz = timezone('MST')    #We could use this as a parameter to capture user input for TZ\n",
    "    Current = datetime.now(tz)\n",
    "    cryptocompare.cryptocompare._set_api_key_parameter(API_KEY)\n",
    "    today = date.today() \n",
    "    yesterday = today - timedelta(days = days_ago)  # This \n",
    "    now_price = cryptocompare.get_price(coin, currency=cur, full=False)\n",
    "    then_price = cryptocompare.get_historical_price(coin, cur, yesterday)\n",
    "    historical = []\n",
    "    count = 0\n",
    "    while count < history:         #Just looping through, getting a day, storing it, incrementing\n",
    "        d = today - timedelta(days = count)\n",
    "        x = cryptocompare.get_historical_price(coin, cur, d)\n",
    "        historical.append(x)\n",
    "        count = count+1\n",
    "    #print(\"Today's Price: \",now_price.get(coin))\n",
    "    #print(days_ago,\"Days Prior Price: \",then_price.get(coin))\n",
    "    return(historical)\n",
    "    \n",
    "get_price('BTC', 'USD', 3, 30)"
   ]
  },
  {
   "cell_type": "code",
   "execution_count": null,
   "metadata": {},
   "outputs": [],
   "source": []
  },
  {
   "cell_type": "code",
   "execution_count": null,
   "metadata": {},
   "outputs": [],
   "source": []
  }
 ],
 "metadata": {
  "kernelspec": {
   "display_name": "Python 3",
   "language": "python",
   "name": "python3"
  },
  "language_info": {
   "codemirror_mode": {
    "name": "ipython",
    "version": 3
   },
   "file_extension": ".py",
   "mimetype": "text/x-python",
   "name": "python",
   "nbconvert_exporter": "python",
   "pygments_lexer": "ipython3",
   "version": "3.8.6"
  }
 },
 "nbformat": 4,
 "nbformat_minor": 4
}
