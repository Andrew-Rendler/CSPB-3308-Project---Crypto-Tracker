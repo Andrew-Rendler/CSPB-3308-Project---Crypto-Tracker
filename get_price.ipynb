{
 "cells": [
  {
   "cell_type": "code",
   "execution_count": 86,
   "metadata": {},
   "outputs": [
    {
     "name": "stdout",
     "output_type": "stream",
     "text": [
      "{'BTC': {'USD': 49722.13}}\n",
      "{'BTC': {'USD': 48892.8}}\n",
      "{'BTC': {'USD': 48775.37}}\n",
      "{'BTC': {'USD': 48363.74}}\n",
      "{'BTC': {'USD': 50392.55}}\n",
      "{'BTC': {'USD': 48501.21}}\n",
      "{'BTC': {'USD': 49635.07}}\n",
      "{'BTC': {'USD': 45261.03}}\n",
      "{'BTC': {'USD': 46191.39}}\n",
      "{'BTC': {'USD': 46324.5}}\n",
      "{'BTC': {'USD': 47082.87}}\n",
      "{'BTC': {'USD': 49738.17}}\n",
      "{'BTC': {'USD': 48898.7}}\n",
      "{'BTC': {'USD': 54121.17}}\n",
      "{'BTC': {'USD': 57469.95}}\n",
      "{'BTC': {'USD': 55900.84}}\n",
      "{'BTC': {'USD': 55933.47}}\n",
      "{'BTC': {'USD': 51591.61}}\n",
      "{'BTC': {'USD': 52154.91}}\n",
      "{'BTC': {'USD': 49184.63}}\n",
      "{'BTC': {'USD': 47936.51}}\n",
      "{'BTC': {'USD': 48652.87}}\n",
      "{'BTC': {'USD': 47222.32}}\n",
      "{'BTC': {'USD': 47435.54}}\n",
      "{'BTC': {'USD': 48006.18}}\n",
      "{'BTC': {'USD': 44854.95}}\n",
      "{'BTC': {'USD': 46509.57}}\n",
      "{'BTC': {'USD': 46437.41}}\n",
      "{'BTC': {'USD': 38868.82}}\n",
      "{'BTC': {'USD': 39267.01}}\n",
      "Today's Price:  {'USD': 49698.78}\n",
      "3 Days Prior Price:  {'USD': 48363.74}\n"
     ]
    },
    {
     "data": {
      "text/plain": [
       "[{'BTC': {'USD': 49722.13}},\n",
       " {'BTC': {'USD': 48892.8}},\n",
       " {'BTC': {'USD': 48775.37}},\n",
       " {'BTC': {'USD': 48363.74}},\n",
       " {'BTC': {'USD': 50392.55}},\n",
       " {'BTC': {'USD': 48501.21}},\n",
       " {'BTC': {'USD': 49635.07}},\n",
       " {'BTC': {'USD': 45261.03}},\n",
       " {'BTC': {'USD': 46191.39}},\n",
       " {'BTC': {'USD': 46324.5}},\n",
       " {'BTC': {'USD': 47082.87}},\n",
       " {'BTC': {'USD': 49738.17}},\n",
       " {'BTC': {'USD': 48898.7}},\n",
       " {'BTC': {'USD': 54121.17}},\n",
       " {'BTC': {'USD': 57469.95}},\n",
       " {'BTC': {'USD': 55900.84}},\n",
       " {'BTC': {'USD': 55933.47}},\n",
       " {'BTC': {'USD': 51591.61}},\n",
       " {'BTC': {'USD': 52154.91}},\n",
       " {'BTC': {'USD': 49184.63}},\n",
       " {'BTC': {'USD': 47936.51}},\n",
       " {'BTC': {'USD': 48652.87}},\n",
       " {'BTC': {'USD': 47222.32}},\n",
       " {'BTC': {'USD': 47435.54}},\n",
       " {'BTC': {'USD': 48006.18}},\n",
       " {'BTC': {'USD': 44854.95}},\n",
       " {'BTC': {'USD': 46509.57}},\n",
       " {'BTC': {'USD': 46437.41}},\n",
       " {'BTC': {'USD': 38868.82}},\n",
       " {'BTC': {'USD': 39267.01}}]"
      ]
     },
     "execution_count": 86,
     "metadata": {},
     "output_type": "execute_result"
    }
   ],
   "source": [
    "#cryptocompare.get_coin_list(format=True)\n",
    "import cryptocompare\n",
    "from datetime import date \n",
    "from datetime import timedelta \n",
    "from pytz import timezone\n",
    "\n",
    "API_KEY = '15bbc2af04315d0d116d7a99909e23d0a026a0ebf729cb0033d82295b3748d6f'\n",
    "\n",
    "def get_price(coin, cur,days_ago, history):\n",
    "    tz = timezone('MST')\n",
    "    Current = datetime.now(tz)\n",
    "    cryptocompare.cryptocompare._set_api_key_parameter(API_KEY)\n",
    "    today = date.today() \n",
    "    yesterday = today - timedelta(days = days_ago)  # This \n",
    "    now_price = cryptocompare.get_price(coin, currency=cur, full=False)\n",
    "    then_price = cryptocompare.get_historical_price(coin, cur, yesterday)\n",
    "    historical = []\n",
    "    count = 0\n",
    "    while count < history:\n",
    "        d = today - timedelta(days = count)\n",
    "        x = cryptocompare.get_historical_price(coin, cur, d)\n",
    "        historical.append(x)\n",
    "        count = count+1\n",
    "        print(x)\n",
    "    print(\"Today's Price: \",now_price.get(coin))\n",
    "    print(days_ago,\"Days Prior Price: \",then_price.get(coin))\n",
    "    return(historical)\n",
    "    \n",
    "get_price('BTC', 'USD', 3, 30)"
   ]
  },
  {
   "cell_type": "code",
   "execution_count": null,
   "metadata": {},
   "outputs": [],
   "source": []
  },
  {
   "cell_type": "code",
   "execution_count": null,
   "metadata": {},
   "outputs": [],
   "source": []
  }
 ],
 "metadata": {
  "kernelspec": {
   "display_name": "Python 3",
   "language": "python",
   "name": "python3"
  },
  "language_info": {
   "codemirror_mode": {
    "name": "ipython",
    "version": 3
   },
   "file_extension": ".py",
   "mimetype": "text/x-python",
   "name": "python",
   "nbconvert_exporter": "python",
   "pygments_lexer": "ipython3",
   "version": "3.8.6"
  }
 },
 "nbformat": 4,
 "nbformat_minor": 4
}
